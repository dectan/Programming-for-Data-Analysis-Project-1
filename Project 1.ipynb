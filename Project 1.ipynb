{
 "cells": [
  {
   "cell_type": "code",
   "execution_count": 1,
   "metadata": {},
   "outputs": [],
   "source": [
    "import numpy as np\n",
    "import pandas as pd\n",
    "import matplotlib.pyplot as plt\n",
    "import seaborn as sns\n",
    "import sys\n",
    "#from scipy.stats import binom\n",
    "from scipy.stats import weibull_min\n",
    "#conda install fitter\n"
   ]
  },
  {
   "attachments": {},
   "cell_type": "markdown",
   "metadata": {},
   "source": [
    "https://data.gov.ie/dataset/a8e90f64-ddd1-4c29-97f4-dbabac4b0bee/resource/ada656d9-f9d4-4dfb-9049-62a3a526934a\n",
    "https://data.gov.ie/dataset/general-election-of-may-2007-general-statistics"
   ]
  },
  {
   "cell_type": "code",
   "execution_count": 2,
   "metadata": {},
   "outputs": [
    {
     "data": {
      "text/html": [
       "<div>\n",
       "<style scoped>\n",
       "    .dataframe tbody tr th:only-of-type {\n",
       "        vertical-align: middle;\n",
       "    }\n",
       "\n",
       "    .dataframe tbody tr th {\n",
       "        vertical-align: top;\n",
       "    }\n",
       "\n",
       "    .dataframe thead th {\n",
       "        text-align: right;\n",
       "    }\n",
       "</style>\n",
       "<table border=\"1\" class=\"dataframe\">\n",
       "  <thead>\n",
       "    <tr style=\"text-align: right;\">\n",
       "      <th></th>\n",
       "      <th>SensorTimestamp</th>\n",
       "      <th>Air Temperature (Degrees C)</th>\n",
       "      <th>Barometric Pressure (inches)</th>\n",
       "      <th>Wind Direction (Degrees Magnetic)</th>\n",
       "      <th>Wind Speed (Knot)</th>\n",
       "    </tr>\n",
       "  </thead>\n",
       "  <tbody>\n",
       "    <tr>\n",
       "      <th>0</th>\n",
       "      <td>11/08/2015 14:54:33</td>\n",
       "      <td>11.7</td>\n",
       "      <td>30.1974</td>\n",
       "      <td>247.8</td>\n",
       "      <td>9.9</td>\n",
       "    </tr>\n",
       "    <tr>\n",
       "      <th>1</th>\n",
       "      <td>11/08/2015 14:54:42</td>\n",
       "      <td>11.9</td>\n",
       "      <td>30.2003</td>\n",
       "      <td>247.8</td>\n",
       "      <td>11.1</td>\n",
       "    </tr>\n",
       "    <tr>\n",
       "      <th>2</th>\n",
       "      <td>11/08/2015 14:56:59</td>\n",
       "      <td>11.9</td>\n",
       "      <td>30.2003</td>\n",
       "      <td>257.1</td>\n",
       "      <td>11.7</td>\n",
       "    </tr>\n",
       "    <tr>\n",
       "      <th>3</th>\n",
       "      <td>13/08/2015 10:50:11</td>\n",
       "      <td>15.1</td>\n",
       "      <td>30.0911</td>\n",
       "      <td>173.7</td>\n",
       "      <td>6.5</td>\n",
       "    </tr>\n",
       "    <tr>\n",
       "      <th>4</th>\n",
       "      <td>13/08/2015 12:02:42</td>\n",
       "      <td>11.4</td>\n",
       "      <td>30.0645</td>\n",
       "      <td>258.1</td>\n",
       "      <td>10.1</td>\n",
       "    </tr>\n",
       "    <tr>\n",
       "      <th>...</th>\n",
       "      <td>...</td>\n",
       "      <td>...</td>\n",
       "      <td>...</td>\n",
       "      <td>...</td>\n",
       "      <td>...</td>\n",
       "    </tr>\n",
       "    <tr>\n",
       "      <th>262</th>\n",
       "      <td>14/08/2015 23:36:17</td>\n",
       "      <td>9.0</td>\n",
       "      <td>29.8725</td>\n",
       "      <td>250.9</td>\n",
       "      <td>5.4</td>\n",
       "    </tr>\n",
       "    <tr>\n",
       "      <th>263</th>\n",
       "      <td>14/08/2015 23:41:17</td>\n",
       "      <td>9.1</td>\n",
       "      <td>29.8784</td>\n",
       "      <td>195.6</td>\n",
       "      <td>3.9</td>\n",
       "    </tr>\n",
       "    <tr>\n",
       "      <th>264</th>\n",
       "      <td>14/08/2015 23:46:17</td>\n",
       "      <td>9.2</td>\n",
       "      <td>29.8725</td>\n",
       "      <td>242.8</td>\n",
       "      <td>3.8</td>\n",
       "    </tr>\n",
       "    <tr>\n",
       "      <th>265</th>\n",
       "      <td>14/08/2015 23:51:17</td>\n",
       "      <td>9.0</td>\n",
       "      <td>29.8755</td>\n",
       "      <td>235.9</td>\n",
       "      <td>2.5</td>\n",
       "    </tr>\n",
       "    <tr>\n",
       "      <th>266</th>\n",
       "      <td>14/08/2015 23:56:18</td>\n",
       "      <td>8.7</td>\n",
       "      <td>29.8725</td>\n",
       "      <td>227.3</td>\n",
       "      <td>1.9</td>\n",
       "    </tr>\n",
       "  </tbody>\n",
       "</table>\n",
       "<p>267 rows × 5 columns</p>\n",
       "</div>"
      ],
      "text/plain": [
       "         SensorTimestamp  Air Temperature (Degrees C)  \\\n",
       "0    11/08/2015 14:54:33                         11.7   \n",
       "1    11/08/2015 14:54:42                         11.9   \n",
       "2    11/08/2015 14:56:59                         11.9   \n",
       "3    13/08/2015 10:50:11                         15.1   \n",
       "4    13/08/2015 12:02:42                         11.4   \n",
       "..                   ...                          ...   \n",
       "262  14/08/2015 23:36:17                          9.0   \n",
       "263  14/08/2015 23:41:17                          9.1   \n",
       "264  14/08/2015 23:46:17                          9.2   \n",
       "265  14/08/2015 23:51:17                          9.0   \n",
       "266  14/08/2015 23:56:18                          8.7   \n",
       "\n",
       "     Barometric Pressure (inches)  Wind Direction (Degrees Magnetic)  \\\n",
       "0                         30.1974                              247.8   \n",
       "1                         30.2003                              247.8   \n",
       "2                         30.2003                              257.1   \n",
       "3                         30.0911                              173.7   \n",
       "4                         30.0645                              258.1   \n",
       "..                            ...                                ...   \n",
       "262                       29.8725                              250.9   \n",
       "263                       29.8784                              195.6   \n",
       "264                       29.8725                              242.8   \n",
       "265                       29.8755                              235.9   \n",
       "266                       29.8725                              227.3   \n",
       "\n",
       "     Wind Speed (Knot)  \n",
       "0                  9.9  \n",
       "1                 11.1  \n",
       "2                 11.7  \n",
       "3                  6.5  \n",
       "4                 10.1  \n",
       "..                 ...  \n",
       "262                5.4  \n",
       "263                3.9  \n",
       "264                3.8  \n",
       "265                2.5  \n",
       "266                1.9  \n",
       "\n",
       "[267 rows x 5 columns]"
      ]
     },
     "execution_count": 2,
     "metadata": {},
     "output_type": "execute_result"
    }
   ],
   "source": [
    "\n",
    "df1=pd.read_csv('http://data.marine.ie/downloads/SmartBayIreland/GalwaySampleWeatherData.csv',nrows = 267)\n",
    "#https://stackoverflow.com/questions/48899051/how-to-drop-a-specific-column-of-csv-file-while-reading-it-using-pandas\n",
    "df1 = df1.drop(['Longitude','Latitude','Wind Direction (Degrees True)','Barometric Pressure (Millibars)',\"Wind Speed (Meters/Sec)\"],axis =1)\n",
    "df1\n",
    "#df1.loc[df1.loc[:,'SensorTimestamp'] >= '14/08/2015']\n",
    "\n"
   ]
  },
  {
   "attachments": {},
   "cell_type": "markdown",
   "metadata": {},
   "source": []
  },
  {
   "cell_type": "code",
   "execution_count": 3,
   "metadata": {},
   "outputs": [
    {
     "data": {
      "image/png": "[encoded data removed]",
      "text/plain": [
       "<Figure size 640x480 with 1 Axes>"
      ]
     },
     "metadata": {},
     "output_type": "display_data"
    }
   ],
   "source": [
    "sns.lineplot(data=df1, x = \"SensorTimestamp\", y = \"Air Temperature (Degrees C)\")\n",
    "sns.lineplot(data=df1, x = \"SensorTimestamp\", y = \"Barometric Pressure (inches)\")\n",
    "sns.lineplot(data=df1, x = \"SensorTimestamp\", y = \"Wind Direction (Degrees Magnetic)\")\n",
    "sns.lineplot(data=df1, x = \"SensorTimestamp\", y = \"Wind Speed (Knot)\")\n",
    "plt.title(\"'Variables\")\n",
    "plt.xlabel(\"'Time\")\n",
    "plt.ylabel(\"Values\")\n",
    "plt.legend([\"Air Temperature (Degrees C)\",\"Barometric Pressure (inches)\",\"Wind Direction (Degrees Magnetic)\",\"Wind Speed (Knot)\"])\n",
    "#plt.show()\n",
    "plt.show()"
   ]
  },
  {
   "attachments": {},
   "cell_type": "markdown",
   "metadata": {},
   "source": [
    "as shown above , data is sporadic so removing dates from start. need to figure out how to do date range "
   ]
  },
  {
   "cell_type": "code",
   "execution_count": null,
   "metadata": {},
   "outputs": [],
   "source": []
  },
  {
   "cell_type": "code",
   "execution_count": 4,
   "metadata": {},
   "outputs": [
    {
     "ename": "NameError",
     "evalue": "name 'df2' is not defined",
     "output_type": "error",
     "traceback": [
      "\u001b[1;31m---------------------------------------------------------------------------\u001b[0m",
      "\u001b[1;31mNameError\u001b[0m                                 Traceback (most recent call last)",
      "\u001b[1;32m~\\AppData\\Local\\Temp\\ipykernel_10012\\3393662392.py\u001b[0m in \u001b[0;36m<module>\u001b[1;34m\u001b[0m\n\u001b[1;32m----> 1\u001b[1;33m \u001b[0msns\u001b[0m\u001b[1;33m.\u001b[0m\u001b[0mlineplot\u001b[0m\u001b[1;33m(\u001b[0m\u001b[0mdata\u001b[0m\u001b[1;33m=\u001b[0m\u001b[0mdf2\u001b[0m\u001b[1;33m,\u001b[0m \u001b[0mx\u001b[0m \u001b[1;33m=\u001b[0m \u001b[1;34m\"SensorTimestamp\"\u001b[0m\u001b[1;33m,\u001b[0m \u001b[0my\u001b[0m \u001b[1;33m=\u001b[0m \u001b[1;34m\"Air Temperature (Degrees C)\"\u001b[0m\u001b[1;33m)\u001b[0m\u001b[1;33m\u001b[0m\u001b[1;33m\u001b[0m\u001b[0m\n\u001b[0m\u001b[0;32m      2\u001b[0m \u001b[0msns\u001b[0m\u001b[1;33m.\u001b[0m\u001b[0mlineplot\u001b[0m\u001b[1;33m(\u001b[0m\u001b[0mdata\u001b[0m\u001b[1;33m=\u001b[0m\u001b[0mdf2\u001b[0m\u001b[1;33m,\u001b[0m \u001b[0mx\u001b[0m \u001b[1;33m=\u001b[0m \u001b[1;34m\"SensorTimestamp\"\u001b[0m\u001b[1;33m,\u001b[0m \u001b[0my\u001b[0m \u001b[1;33m=\u001b[0m \u001b[1;34m\"Barometric Pressure (inches)\"\u001b[0m\u001b[1;33m)\u001b[0m\u001b[1;33m\u001b[0m\u001b[1;33m\u001b[0m\u001b[0m\n\u001b[0;32m      3\u001b[0m \u001b[0msns\u001b[0m\u001b[1;33m.\u001b[0m\u001b[0mlineplot\u001b[0m\u001b[1;33m(\u001b[0m\u001b[0mdata\u001b[0m\u001b[1;33m=\u001b[0m\u001b[0mdf2\u001b[0m\u001b[1;33m,\u001b[0m \u001b[0mx\u001b[0m \u001b[1;33m=\u001b[0m \u001b[1;34m\"SensorTimestamp\"\u001b[0m\u001b[1;33m,\u001b[0m \u001b[0my\u001b[0m \u001b[1;33m=\u001b[0m \u001b[1;34m\"Wind Direction (Degrees Magnetic)\"\u001b[0m\u001b[1;33m)\u001b[0m\u001b[1;33m\u001b[0m\u001b[1;33m\u001b[0m\u001b[0m\n\u001b[0;32m      4\u001b[0m \u001b[0msns\u001b[0m\u001b[1;33m.\u001b[0m\u001b[0mlineplot\u001b[0m\u001b[1;33m(\u001b[0m\u001b[0mdata\u001b[0m\u001b[1;33m=\u001b[0m\u001b[0mdf2\u001b[0m\u001b[1;33m,\u001b[0m \u001b[0mx\u001b[0m \u001b[1;33m=\u001b[0m \u001b[1;34m\"SensorTimestamp\"\u001b[0m\u001b[1;33m,\u001b[0m \u001b[0my\u001b[0m \u001b[1;33m=\u001b[0m \u001b[1;34m\"Wind Speed (Knot)\"\u001b[0m\u001b[1;33m)\u001b[0m\u001b[1;33m\u001b[0m\u001b[1;33m\u001b[0m\u001b[0m\n\u001b[0;32m      5\u001b[0m \u001b[0mplt\u001b[0m\u001b[1;33m.\u001b[0m\u001b[0mtitle\u001b[0m\u001b[1;33m(\u001b[0m\u001b[1;34m\"'Variables\"\u001b[0m\u001b[1;33m)\u001b[0m\u001b[1;33m\u001b[0m\u001b[1;33m\u001b[0m\u001b[0m\n",
      "\u001b[1;31mNameError\u001b[0m: name 'df2' is not defined"
     ]
    }
   ],
   "source": [
    "sns.lineplot(data=df2, x = \"SensorTimestamp\", y = \"Air Temperature (Degrees C)\")\n",
    "sns.lineplot(data=df2, x = \"SensorTimestamp\", y = \"Barometric Pressure (inches)\")\n",
    "sns.lineplot(data=df2, x = \"SensorTimestamp\", y = \"Wind Direction (Degrees Magnetic)\")\n",
    "sns.lineplot(data=df2, x = \"SensorTimestamp\", y = \"Wind Speed (Knot)\")\n",
    "plt.title(\"'Variables\")\n",
    "plt.xlabel(\"'Time\")\n",
    "plt.ylabel(\"Values\")\n",
    "plt.legend([\"Air Temperature (Degrees C)\",\"Barometric Pressure (inches)\",\"Wind Direction (Degrees Magnetic)\",\"Wind Speed (Knot)\"])\n",
    "plt.show()"
   ]
  },
  {
   "attachments": {},
   "cell_type": "markdown",
   "metadata": {},
   "source": [
    "SensorTimestamp column is int 64 bit, the following steps to create new column called datetime with type asa datetime"
   ]
  },
  {
   "cell_type": "code",
   "execution_count": null,
   "metadata": {},
   "outputs": [],
   "source": [
    "df1['SensorTimestamp']\n"
   ]
  },
  {
   "cell_type": "code",
   "execution_count": null,
   "metadata": {},
   "outputs": [],
   "source": [
    "pd.to_datetime(df1['SensorTimestamp'])"
   ]
  },
  {
   "attachments": {},
   "cell_type": "markdown",
   "metadata": {},
   "source": [
    "new variable datetime added"
   ]
  },
  {
   "cell_type": "code",
   "execution_count": null,
   "metadata": {},
   "outputs": [],
   "source": [
    "df1['datetime'] = pd.to_datetime(df1['SensorTimestamp'])\n"
   ]
  },
  {
   "cell_type": "code",
   "execution_count": null,
   "metadata": {},
   "outputs": [],
   "source": [
    "df1['datetime']\n"
   ]
  },
  {
   "cell_type": "code",
   "execution_count": null,
   "metadata": {},
   "outputs": [],
   "source": [
    "df2=df1.loc[df1.loc[:,'SensorTimestamp'] >= '14/08/2015 ']\n",
    "df2"
   ]
  },
  {
   "cell_type": "code",
   "execution_count": null,
   "metadata": {},
   "outputs": [],
   "source": [
    "df3=df2.loc[df2.loc[:,'datetime'] <='2015/08/25']\n",
    "df3"
   ]
  },
  {
   "cell_type": "code",
   "execution_count": null,
   "metadata": {},
   "outputs": [],
   "source": [
    "sns.lineplot(data=df3[50:150], x = \"datetime\", y = \"Air Temperature (Degrees C)\")\n",
    "sns.lineplot(data=df3[50:150], x = \"datetime\", y = \"Barometric Pressure (inches)\")\n",
    "sns.lineplot(data=df3[50:150], x = \"datetime\", y = \"Wind Direction (Degrees Magnetic)\")\n",
    "sns.lineplot(data=df3[50:150], x = \"datetime\", y = \"Wind Speed (Knot)\")\n",
    "#axis('equal')\n",
    "plt.title(\"'Variables\")\n",
    "#plt.xlabel(\"'Time\")\n",
    "#plt.ylabel(\"Values\")\n",
    "plt.legend([\"Air Temperature (Degrees C)\",\"Wind Speed (Knot)\",\"Wind Speed (Meters/Sec)\",\"Barometric Pressure (inches)\"])\n",
    "plt.show()"
   ]
  },
  {
   "cell_type": "code",
   "execution_count": null,
   "metadata": {},
   "outputs": [],
   "source": [
    "df3"
   ]
  },
  {
   "cell_type": "code",
   "execution_count": null,
   "metadata": {},
   "outputs": [],
   "source": [
    "df3.describe()"
   ]
  },
  {
   "cell_type": "code",
   "execution_count": null,
   "metadata": {},
   "outputs": [],
   "source": [
    "sns.pairplot(df3)\n",
    "plt.show()"
   ]
  },
  {
   "cell_type": "code",
   "execution_count": null,
   "metadata": {},
   "outputs": [],
   "source": []
  },
  {
   "attachments": {},
   "cell_type": "markdown",
   "metadata": {},
   "source": [
    "Air Temperature (Degrees C)                 float64\n",
    "Barometric Pressure (inches)                float64\n",
    "Wind Direction (Degrees Magnetic)           float64\n",
    "Wind Speed (Knot)                           float64\n",
    "datetime                             datetime64[ns]"
   ]
  },
  {
   "cell_type": "code",
   "execution_count": null,
   "metadata": {},
   "outputs": [],
   "source": [
    "df3.plot(x='Air Temperature (Degrees C)', y='Barometric Pressure (inches)', style='ro', title=\"Air Temp vs Barometric Pressure (inches)\")"
   ]
  },
  {
   "cell_type": "code",
   "execution_count": null,
   "metadata": {},
   "outputs": [],
   "source": [
    "df3.plot(x='Air Temperature (Degrees C)', y='Wind Speed (Knot)', style='ro', title=\"Air Temp and Wind Speed\")"
   ]
  },
  {
   "cell_type": "markdown",
   "metadata": {},
   "source": []
  },
  {
   "attachments": {},
   "cell_type": "markdown",
   "metadata": {},
   "source": [
    "Displaying data types of each variable"
   ]
  },
  {
   "cell_type": "code",
   "execution_count": null,
   "metadata": {},
   "outputs": [],
   "source": [
    "df3.dtypes"
   ]
  },
  {
   "cell_type": "code",
   "execution_count": null,
   "metadata": {},
   "outputs": [],
   "source": [
    "\n",
    "df3.hist('Air Temperature (Degrees C)')\n",
    "plt.show()"
   ]
  },
  {
   "cell_type": "code",
   "execution_count": null,
   "metadata": {},
   "outputs": [],
   "source": [
    "idx1 = pd.date_range(start = \"2023-11-08 00:00:33\", periods=100, freq=\"MIN\")\n",
    "idx1"
   ]
  },
  {
   "cell_type": "code",
   "execution_count": null,
   "metadata": {},
   "outputs": [],
   "source": [
    "rng1 = np.random.default_rng()\n",
    "mu1, sigma1 = 10.42, .76\n",
    "ts1 = pd.DataFrame(data=rng1.normal(mu1, sigma1,len(idx1)),index =idx1, columns=['Synthesised Air Temperature (Degrees C)'])\n",
    "ts1"
   ]
  },
  {
   "cell_type": "code",
   "execution_count": null,
   "metadata": {},
   "outputs": [],
   "source": [
    "ts1.hist('Synthesised Air Temperature (Degrees C)')\n",
    "plt.show()"
   ]
  },
  {
   "cell_type": "code",
   "execution_count": null,
   "metadata": {},
   "outputs": [],
   "source": []
  },
  {
   "cell_type": "code",
   "execution_count": null,
   "metadata": {},
   "outputs": [],
   "source": [
    "sns.lineplot(data=df3, x=\"datetime\", y = \"Air Temperature (Degrees C)\")"
   ]
  },
  {
   "cell_type": "code",
   "execution_count": null,
   "metadata": {},
   "outputs": [],
   "source": []
  },
  {
   "cell_type": "code",
   "execution_count": null,
   "metadata": {},
   "outputs": [],
   "source": [
    "sns.kdeplot(df3['Air Temperature (Degrees C)'],shade=True)\n",
    "sns.kdeplot(ts1['Synthesised Air Temperature (Degrees C)'],shade=True)\n",
    "#sns.kdeplot(x,shade=True)\n",
    "#sns.kdeplot(ts1['Synthesisd Air Temperature (Degrees C)'],shade=True)"
   ]
  },
  {
   "cell_type": "code",
   "execution_count": null,
   "metadata": {},
   "outputs": [],
   "source": [
    "#sns.kdeplot(ts1['Synthesised Air Temperature (Degrees C)'],shade=True)"
   ]
  },
  {
   "cell_type": "code",
   "execution_count": null,
   "metadata": {},
   "outputs": [],
   "source": []
  },
  {
   "cell_type": "code",
   "execution_count": null,
   "metadata": {},
   "outputs": [],
   "source": [
    "df3.hist('Wind Speed (Knot)')\n",
    "plt.show()"
   ]
  },
  {
   "cell_type": "code",
   "execution_count": null,
   "metadata": {},
   "outputs": [],
   "source": [
    "sns.kdeplot(df3['Wind Speed (Knot)'],shade=True)\n",
    "sns.kdeplot(x,shade=True)\n"
   ]
  },
  {
   "cell_type": "code",
   "execution_count": null,
   "metadata": {},
   "outputs": [],
   "source": [
    "idx2 = pd.date_range(start = \"2015-11-08 14:54:33\", periods=100, freq=\"MIN\")\n",
    "idx2"
   ]
  },
  {
   "cell_type": "code",
   "execution_count": null,
   "metadata": {},
   "outputs": [],
   "source": [
    "rng1 = np.random.default_rng()\n",
    "mu1, sigma1 = 13.04, 5.29\n",
    "ts2 = pd.DataFrame(data=rng1.normal(mu1, sigma1,len(idx2)),index =idx2, columns=['Synthesised Wind Speed (Knot)'])\n",
    "ts2"
   ]
  },
  {
   "cell_type": "code",
   "execution_count": null,
   "metadata": {},
   "outputs": [],
   "source": [
    "#rng1 = np.random.default_rng()\n",
    "#shape = 5.0\n",
    "#scale = 2.0\n",
    "#values = weibull_min.rvs(2.1,8.5, size=100)\n",
    "#ts2 = pd.DataFrame(data=rng1.weibull(15,len(idx1)),index =idx1, columns=['Synthesised Wind Speed (Knot)'])\n",
    "#ts2"
   ]
  },
  {
   "cell_type": "code",
   "execution_count": null,
   "metadata": {},
   "outputs": [],
   "source": [
    "\n",
    "\n"
   ]
  },
  {
   "cell_type": "code",
   "execution_count": null,
   "metadata": {},
   "outputs": [],
   "source": [
    "ts2.hist()\n",
    "plt.show()"
   ]
  },
  {
   "cell_type": "code",
   "execution_count": null,
   "metadata": {},
   "outputs": [],
   "source": []
  },
  {
   "cell_type": "code",
   "execution_count": null,
   "metadata": {},
   "outputs": [],
   "source": [
    "sns.kdeplot(df3['Wind Speed (Knot)'],shade=True)\n",
    "sns.kdeplot(ts2['Synthesised Wind Speed (Knot)'],shade=True)"
   ]
  },
  {
   "cell_type": "code",
   "execution_count": null,
   "metadata": {},
   "outputs": [],
   "source": []
  },
  {
   "cell_type": "code",
   "execution_count": null,
   "metadata": {},
   "outputs": [],
   "source": []
  },
  {
   "cell_type": "code",
   "execution_count": null,
   "metadata": {},
   "outputs": [],
   "source": [
    "df3.hist('Barometric Pressure (inches)')\n",
    "plt.show()"
   ]
  },
  {
   "cell_type": "code",
   "execution_count": null,
   "metadata": {},
   "outputs": [],
   "source": [
    "#sns.kdeplot(df3['Barometric Pressure (inches)'],shade=True)\n",
    "#sns.kdeplot(ts2['Synthesised Wind Speed (Knot)'],shade=True)"
   ]
  },
  {
   "cell_type": "code",
   "execution_count": null,
   "metadata": {},
   "outputs": [],
   "source": [
    "rng1 = np.random.default_rng()\n",
    "mu1, sigma1 = 29.85, 0.02\n",
    "ts3 = pd.DataFrame(data=rng1.normal(mu1, sigma1,len(idx1)),index =idx1, columns=['Synthesised Barometric'])\n",
    "ts3"
   ]
  },
  {
   "cell_type": "code",
   "execution_count": null,
   "metadata": {},
   "outputs": [],
   "source": [
    "sns.kdeplot(df3['Barometric Pressure (inches)'],shade=True)\n",
    "sns.kdeplot(ts3['Synthesised Barometric'],shade=True)"
   ]
  },
  {
   "cell_type": "code",
   "execution_count": null,
   "metadata": {},
   "outputs": [],
   "source": []
  },
  {
   "cell_type": "code",
   "execution_count": null,
   "metadata": {},
   "outputs": [],
   "source": [
    "df3.hist('Wind Direction (Degrees Magnetic)')\n",
    "plt.show()"
   ]
  },
  {
   "cell_type": "code",
   "execution_count": null,
   "metadata": {},
   "outputs": [],
   "source": [
    "#sns.kdeplot(df3['Wind Direction (Degrees Magnetic)'],shade=True)"
   ]
  },
  {
   "cell_type": "code",
   "execution_count": null,
   "metadata": {},
   "outputs": [],
   "source": [
    "#sns.kdeplot(df3['Wind Speed (Knot)'],shade=True, label=\"actual\")\n",
    "#sns.kdeplot(ts2['Synthesised Wind Speed (Knot)'],shade=True, label=\"simulated\")"
   ]
  },
  {
   "cell_type": "code",
   "execution_count": null,
   "metadata": {},
   "outputs": [],
   "source": [
    "#sns.kdeplot(ts2['Synthesised Wind Speed (Knot)'],shade=True, label=\"simulated\")"
   ]
  },
  {
   "cell_type": "code",
   "execution_count": null,
   "metadata": {},
   "outputs": [],
   "source": []
  },
  {
   "cell_type": "code",
   "execution_count": null,
   "metadata": {},
   "outputs": [],
   "source": [
    "#sns.set(style=\"ticks\", palette=\"colorblind\")\n",
    "#axes=plt.subplots(2,2, figsize=(9,9))\n",
    "#sns.kdeplot(df3['Air Temperature (Degrees C)'], shade=True, label=\"simulated\")\n",
    "#sns.kdeplot(ts1['Synthesisd Air Temperature (Degrees C)'],shade=True, label=\"simulated\")\n",
    "#Air Temperature (Degrees C)"
   ]
  },
  {
   "cell_type": "code",
   "execution_count": null,
   "metadata": {},
   "outputs": [],
   "source": [
    "#sns.set(style=\"ticks\", palette=\"colorblind\")\n",
    "#axes=plt.subplots(2,2, figsize=(9,9))\n",
    "sns.kdeplot(df3['Air Temperature (Degrees C)'], shade=True, label=\"simulated\")\n",
    "#sns.kdeplot(ts1['Synthesisd Air Temperature (Degrees C)'],shade=True, label=\"simulated\")\n",
    "#Air Temperature (Degrees C)"
   ]
  },
  {
   "cell_type": "code",
   "execution_count": null,
   "metadata": {},
   "outputs": [],
   "source": [
    "df3.hist('Barometric Pressure (inches)')\n",
    "plt.show()"
   ]
  },
  {
   "cell_type": "code",
   "execution_count": null,
   "metadata": {},
   "outputs": [],
   "source": [
    "#idx1 = pd.date_range(start = \"2015-11-08 14:54:33\", periods=200, freq=\"MIN\")\n",
    "#idx1"
   ]
  },
  {
   "cell_type": "code",
   "execution_count": null,
   "metadata": {},
   "outputs": [],
   "source": [
    "rng3 = np.random.default_rng()\n",
    "shape = 5.0\n",
    "scale = 2.0\n",
    "values = weibull_min.rvs(shape, scale=scale, size=100)\n",
    "#ts1 = pd.DataFrame(data=rng1.weibull(200,len(idx1)),index =idx1, columns=['Synthesises Weibull'])\n",
    "#ts1"
   ]
  },
  {
   "cell_type": "code",
   "execution_count": null,
   "metadata": {},
   "outputs": [],
   "source": [
    "#ts1.hist('Synthesises Weibull')\n",
    "plt.show()"
   ]
  },
  {
   "cell_type": "code",
   "execution_count": null,
   "metadata": {},
   "outputs": [],
   "source": [
    "df3.hist('Wind Direction (Degrees Magnetic)')\n",
    "plt.show()"
   ]
  },
  {
   "cell_type": "code",
   "execution_count": null,
   "metadata": {},
   "outputs": [],
   "source": [
    "#sns.kdeplot(df3['Wind Direction (Degrees Magnetic)'],shade=True)"
   ]
  },
  {
   "cell_type": "code",
   "execution_count": null,
   "metadata": {},
   "outputs": [],
   "source": []
  },
  {
   "cell_type": "code",
   "execution_count": null,
   "metadata": {},
   "outputs": [],
   "source": []
  },
  {
   "cell_type": "markdown",
   "metadata": {},
   "source": []
  },
  {
   "cell_type": "code",
   "execution_count": null,
   "metadata": {},
   "outputs": [],
   "source": [
    "rng1 = np.random.default_rng()\n",
    "mu1, sigma1 = 267, 16.53\n",
    "ts4 = pd.DataFrame(data=rng1.normal(mu1, sigma1,len(idx1)),index =idx1, columns=['Synthesised Wind direction'])\n",
    "ts4"
   ]
  },
  {
   "cell_type": "code",
   "execution_count": null,
   "metadata": {},
   "outputs": [],
   "source": [
    "sns.kdeplot(ts4['Synthesised Wind direction'],shade=True, label=\"simulated\")\n",
    "sns.kdeplot(df3['Wind Direction (Degrees Magnetic)'],shade=True)"
   ]
  },
  {
   "cell_type": "markdown",
   "metadata": {},
   "source": []
  },
  {
   "cell_type": "code",
   "execution_count": null,
   "metadata": {},
   "outputs": [],
   "source": [
    "result=pd.concat([ts1,ts2,ts3,ts4])\n",
    "result"
   ]
  },
  {
   "cell_type": "code",
   "execution_count": null,
   "metadata": {},
   "outputs": [],
   "source": [
    "df1.hist('Barometric Pressure (inches)')\n",
    "plt.show()"
   ]
  },
  {
   "cell_type": "code",
   "execution_count": null,
   "metadata": {},
   "outputs": [],
   "source": [
    "a = df3['Wind Speed (Knot)']\n",
    "plt.hist(a,  label = \"Iris setosa\", color = \"red\",alpha=1) \n",
    "plt.title(\"'Wind Speed (Knot)\")\n",
    "plt.xlabel(\"'Wind Speed (Knot)\")\n",
    "plt.ylabel(\"Count\")\n",
    "plt.legend([\"'Wind Speed (Knot)\"])\n",
    "plt.show()"
   ]
  },
  {
   "cell_type": "code",
   "execution_count": null,
   "metadata": {},
   "outputs": [],
   "source": []
  },
  {
   "cell_type": "code",
   "execution_count": null,
   "metadata": {},
   "outputs": [],
   "source": []
  },
  {
   "cell_type": "code",
   "execution_count": null,
   "metadata": {},
   "outputs": [],
   "source": [
    "np.random.seed(420)\n",
    "\n",
    "# Generate random dataset from the Weibull distribution\n",
    "size = 10000\n",
    "k = 20\n",
    "lambda_ = 30\n",
    "data = np.random.weibull(k, size) * lambda_\n",
    "data"
   ]
  },
  {
   "cell_type": "code",
   "execution_count": null,
   "metadata": {},
   "outputs": [],
   "source": [
    "plt.figure(figsize=(8, 6))\n",
    "plt.hist('data', bins=3, edgecolor='k')\n",
    "plt.xlabel('Value')\n",
    "plt.ylabel('Frequency')\n",
    "plt.title('Histogram of the Random Dataset')\n",
    "plt.show()"
   ]
  },
  {
   "cell_type": "code",
   "execution_count": null,
   "metadata": {},
   "outputs": [],
   "source": []
  },
  {
   "cell_type": "code",
   "execution_count": null,
   "metadata": {},
   "outputs": [],
   "source": [
    "idx = pd.date_range(\"2018-01-01\", periods=100, freq=\"Y\")\n",
    "idx"
   ]
  },
  {
   "cell_type": "code",
   "execution_count": null,
   "metadata": {},
   "outputs": [],
   "source": [
    "rng = np.random.default_rng()\n",
    "\n"
   ]
  },
  {
   "attachments": {},
   "cell_type": "markdown",
   "metadata": {},
   "source": [
    "generate random numbers between 0 and 1 , averafe of 25 recoded incidnets per day"
   ]
  },
  {
   "cell_type": "code",
   "execution_count": null,
   "metadata": {},
   "outputs": [],
   "source": [
    "ts = pd.DataFrame(data=rng.poisson(25,len(idx)),index =idx, columns=['Incidents recorded']), \n",
    "#ts = pd.DataFrame(data=rng.poisson(25,len(idx)),index =idx, columns=['Incidents recorded1'])\n",
    "#ts1 = pd.DataFrame(data=rng.binomial(p = .75,len(idx)),index =idx, columns=['Incidents recorded1'])"
   ]
  },
  {
   "cell_type": "code",
   "execution_count": null,
   "metadata": {},
   "outputs": [],
   "source": [
    "ts\n"
   ]
  },
  {
   "cell_type": "code",
   "execution_count": null,
   "metadata": {},
   "outputs": [],
   "source": [
    "import scipy.stats as stats\n",
    "import numpy as np\n",
    "import matplotlib.pyplot as plt\n",
    "\n",
    "\n",
    "data = stats.weibull_min.rvs(2, loc=0, scale=24, size=100)\n",
    "\n",
    "# Fit Weibull distribution\n",
    "shape, loc, scale = stats.weibull_min.fit(data, floc=0)\n",
    "\n",
    "# Print parameters\n",
    "print(shape, loc, scale)\n",
    "\n",
    "# Plot distribution\n",
    "x = np.linspace(0, 24, 1000)\n",
    "plt.plot(x, stats.weibull_min.pdf(x, shape, loc, scale))\n",
    "plt.show()"
   ]
  },
  {
   "cell_type": "code",
   "execution_count": null,
   "metadata": {},
   "outputs": [],
   "source": [
    "a = data\n",
    "plt.hist(a,  label = \"Iris setosa\", color = \"red\",alpha=1) \n",
    "plt.title(\"'Wind Speed (Knot)\")\n",
    "plt.xlabel(\"'Wind Speed (Knot)\")\n",
    "plt.ylabel(\"Count\")\n",
    "plt.legend([\"'Wind Speed (Knot)\"])\n",
    "plt.show()"
   ]
  },
  {
   "cell_type": "code",
   "execution_count": null,
   "metadata": {},
   "outputs": [],
   "source": [
    "idx4 = pd.date_range(start = \"2023-11-08 14:54:33\", periods=250, freq=\"MIN\")\n",
    "idx4\n",
    "mu1, sigma1 = 10.55, .67\n",
    "rng4 = np.random.default_rng()\n",
    "ts4 = pd.DataFrame(data=rng1.poisson(10.55,len(idx1)),index =idx4, columns=['Synthesisd )'])\n",
    "ts4\n",
    "\n"
   ]
  },
  {
   "cell_type": "code",
   "execution_count": null,
   "metadata": {},
   "outputs": [],
   "source": [
    "import numpy as np\n",
    "\n",
    "x = np.random.poisson(lam=13.5, size=100)\n",
    "\n",
    "sns.kdeplot(x,shade=True)"
   ]
  },
  {
   "cell_type": "code",
   "execution_count": null,
   "metadata": {},
   "outputs": [],
   "source": [
    "sns.kdeplot(ts4['Synthesisd )'], shade=True, label=\"simulated\")"
   ]
  },
  {
   "cell_type": "code",
   "execution_count": null,
   "metadata": {},
   "outputs": [],
   "source": [
    "import pandas as pd\n",
    "import numpy as np\n",
    "import matplotlib.pyplot as plt\n",
    "import seaborn as sns\n",
    "\n",
    "# Normal distribution variables\n",
    "mu1, sigma1 = 10.55, .67\n",
    "mu2, sigma2 = 0, 1\n",
    "normal1 = np.random.normal(mu1, sigma1, 180)\n",
    "normal2 = np.random.normal(mu2, sigma2, 180)\n",
    "\n",
    "# Weibull distribution variables\n",
    "a1, b1 = 2.1, 8.5\n",
    "a2, b2 = 5, 2\n",
    "weibull1 = np.random.weibull(a1, 180) * b1\n",
    "weibull2 = np.random.weibull(a2, 180) * b2\n",
    "\n",
    "# Create dataframe\n",
    "df23 = pd.DataFrame({\n",
    "    'normal1': normal1,\n",
    "    'normal2': normal2,\n",
    "    'weibull1': weibull1,\n",
    "    'weibull2': weibull2\n",
    "})"
   ]
  },
  {
   "cell_type": "code",
   "execution_count": null,
   "metadata": {},
   "outputs": [],
   "source": []
  },
  {
   "cell_type": "code",
   "execution_count": null,
   "metadata": {},
   "outputs": [],
   "source": [
    "from scipy import stats\n",
    "#from fitter import Fitter\n",
    "\n",
    "# Generate some sample data\n",
    "data = stats.norm.rvs(loc=0, scale=1, size=1000)\n",
    "\n",
    "# Create a Fitter instance and fit the data\n",
    "#f = Fitter(data)\n",
    "#f.fit()\n",
    "# Print the summary of the best-fitted distribution\n",
    "f.summary()"
   ]
  },
  {
   "cell_type": "code",
   "execution_count": null,
   "metadata": {},
   "outputs": [],
   "source": [
    "# Plot dataframe\n",
    "#sns.kdeplot(df['normal1'], shade=True, label=\"simulated\")\n",
    "#sns.kdeplot(df3['Air Temperature (Degrees C)'], shade=True, label=\"simulated\")\n",
    "#df.plot(kind='scatter', x='normal1', y='normal2', color='red')\n",
    "#plt.legend\n",
    "#plt.show()\n",
    "#sns.kdeplot(df23['weibull1'], shade=True, label=\"simulated\")\n",
    "#plt.title('wiebull')\n",
    "##plt.show()\n",
    "#df.plot(kind='bar', x='weibull1', y='weibull2', color='green')\n",
    "#plt.title('Bar Plot')\n",
    "#plt.show()\n",
    "\n",
    "#df.plot(kind='line', x='normal1', y='weibull1', color='blue')\n",
    "#plt.title('Line Plot')\n",
    "#plt.show()"
   ]
  },
  {
   "cell_type": "code",
   "execution_count": null,
   "metadata": {},
   "outputs": [],
   "source": [
    "df3.describe()"
   ]
  },
  {
   "cell_type": "code",
   "execution_count": null,
   "metadata": {},
   "outputs": [],
   "source": [
    "df4 = df3.drop(['SensorTimestamp'],axis =1)\n",
    "df4"
   ]
  },
  {
   "cell_type": "code",
   "execution_count": null,
   "metadata": {},
   "outputs": [],
   "source": [
    "import scipy.stats as stats\n",
    "import numpy as np\n",
    "\n",
    "# Load the data from the CSV file\n",
    "dat = np.loadtxt('data.csv')\n",
    "#data = dat.drop(['SensorTimestamp','Longitude','Latitude','Wind Direction (Degrees True)','Barometric Pressure (Millibars)',\"Wind Speed (Meters/Sec)\",'Air Temperature (Degrees C)','Barometric Pressure (inches)','Wind Direction (Degrees Magnetic)'],axis =1)\n",
    "dat"
   ]
  },
  {
   "cell_type": "code",
   "execution_count": null,
   "metadata": {},
   "outputs": [],
   "source": [
    "params = stats.weibull_min.fit(dat)\n",
    "shape= params\n",
    "\n",
    "# Print the shape and scale parameters\n",
    "print(\"Shape parameter (k):\", shape)\n",
    "#print(\"Scale parameter (lambda):\", scale)"
   ]
  },
  {
   "attachments": {},
   "cell_type": "markdown",
   "metadata": {},
   "source": [
    "Rayleigh PDF "
   ]
  },
  {
   "cell_type": "code",
   "execution_count": null,
   "metadata": {},
   "outputs": [],
   "source": [
    "# Weibull distribution variables\n",
    "a1, b1 = 1, 8\n",
    "\n",
    "weibull1 = np.random.weibull(a1, 100) * b1\n",
    "\n",
    "\n",
    "# Create dataframe\n",
    "df23 = pd.DataFrame({\n",
    "    'weibull1': weibull1,\n",
    "    \n",
    "})"
   ]
  },
  {
   "cell_type": "code",
   "execution_count": null,
   "metadata": {},
   "outputs": [],
   "source": [
    "\n",
    "shape = stats.weibull_min.fit(dat)\n",
    "shape"
   ]
  }
 ],
 "metadata": {
  "kernelspec": {
   "display_name": "base",
   "language": "python",
   "name": "python3"
  },
  "language_info": {
   "codemirror_mode": {
    "name": "ipython",
    "version": 3
   },
   "file_extension": ".py",
   "mimetype": "text/x-python",
   "name": "python",
   "nbconvert_exporter": "python",
   "pygments_lexer": "ipython3",
   "version": "3.9.13"
  },
  "orig_nbformat": 4,
  "vscode": {
   "interpreter": {
    "hash": "11897fb7f3d1744cadb77307357ca126ab04af391fb94973001a3c10680415c6"
   }
  }
 },
 "nbformat": 4,
 "nbformat_minor": 2
}
