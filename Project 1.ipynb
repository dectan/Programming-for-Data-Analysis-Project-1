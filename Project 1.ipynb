{
 "cells": [
  {
   "cell_type": "code",
   "execution_count": 42,
   "metadata": {},
   "outputs": [],
   "source": [
    "import numpy as np\n",
    "import pandas as pd\n",
    "import matplotlib.pyplot as plt\n",
    "import seaborn as sns\n",
    "import sys"
   ]
  },
  {
   "attachments": {},
   "cell_type": "markdown",
   "metadata": {},
   "source": [
    "https://data.gov.ie/dataset/a8e90f64-ddd1-4c29-97f4-dbabac4b0bee/resource/ada656d9-f9d4-4dfb-9049-62a3a526934a"
   ]
  },
  {
   "cell_type": "code",
   "execution_count": 43,
   "metadata": {},
   "outputs": [
    {
     "data": {
      "text/html": [
       "<div>\n",
       "<style scoped>\n",
       "    .dataframe tbody tr th:only-of-type {\n",
       "        vertical-align: middle;\n",
       "    }\n",
       "\n",
       "    .dataframe tbody tr th {\n",
       "        vertical-align: top;\n",
       "    }\n",
       "\n",
       "    .dataframe thead th {\n",
       "        text-align: right;\n",
       "    }\n",
       "</style>\n",
       "<table border=\"1\" class=\"dataframe\">\n",
       "  <thead>\n",
       "    <tr style=\"text-align: right;\">\n",
       "      <th></th>\n",
       "      <th>Age</th>\n",
       "      <th>Gender</th>\n",
       "      <th>NACE Sector</th>\n",
       "      <th>Incident Type</th>\n",
       "      <th>Employment Status</th>\n",
       "      <th>Year</th>\n",
       "      <th>County</th>\n",
       "      <th>Trigger</th>\n",
       "    </tr>\n",
       "  </thead>\n",
       "  <tbody>\n",
       "    <tr>\n",
       "      <th>0</th>\n",
       "      <td>0-17 Years</td>\n",
       "      <td>Male</td>\n",
       "      <td>F - CONSTRUCTION</td>\n",
       "      <td>Non-fatal injury</td>\n",
       "      <td>Employee</td>\n",
       "      <td>2017</td>\n",
       "      <td>Carlow</td>\n",
       "      <td>Lifting, carrying</td>\n",
       "    </tr>\n",
       "    <tr>\n",
       "      <th>1</th>\n",
       "      <td>0-17 Years</td>\n",
       "      <td>Female</td>\n",
       "      <td>C - MANUFACTURING</td>\n",
       "      <td>Non-fatal injury</td>\n",
       "      <td>Employee</td>\n",
       "      <td>2017</td>\n",
       "      <td>Dublin</td>\n",
       "      <td>Other triggers not listed</td>\n",
       "    </tr>\n",
       "    <tr>\n",
       "      <th>2</th>\n",
       "      <td>0-17 Years</td>\n",
       "      <td>Female</td>\n",
       "      <td>Q - HUMAN HEALTH AND SOCIAL WORK ACTIVITIES</td>\n",
       "      <td>Non-fatal injury</td>\n",
       "      <td>Employee</td>\n",
       "      <td>2017</td>\n",
       "      <td>Dublin</td>\n",
       "      <td>Fall on same level (slip, stumble etc)</td>\n",
       "    </tr>\n",
       "    <tr>\n",
       "      <th>3</th>\n",
       "      <td>0-17 Years</td>\n",
       "      <td>Male</td>\n",
       "      <td>C - MANUFACTURING</td>\n",
       "      <td>Non-fatal injury</td>\n",
       "      <td>Employee</td>\n",
       "      <td>2017</td>\n",
       "      <td>Offaly</td>\n",
       "      <td>Pushing, pulling</td>\n",
       "    </tr>\n",
       "    <tr>\n",
       "      <th>4</th>\n",
       "      <td>0-17 Years</td>\n",
       "      <td>Male</td>\n",
       "      <td>I - ACCOMMODATION AND FOOD SERVICE ACTIVITIES</td>\n",
       "      <td>Non-fatal injury</td>\n",
       "      <td>Employee</td>\n",
       "      <td>2017</td>\n",
       "      <td>Dublin</td>\n",
       "      <td>Loss of control of machine</td>\n",
       "    </tr>\n",
       "  </tbody>\n",
       "</table>\n",
       "</div>"
      ],
      "text/plain": [
       "          Age Gender                                      NACE Sector  \\\n",
       "0  0-17 Years     Male                               F - CONSTRUCTION   \n",
       "1  0-17 Years   Female                              C - MANUFACTURING   \n",
       "2  0-17 Years   Female    Q - HUMAN HEALTH AND SOCIAL WORK ACTIVITIES   \n",
       "3  0-17 Years     Male                              C - MANUFACTURING   \n",
       "4  0-17 Years     Male  I - ACCOMMODATION AND FOOD SERVICE ACTIVITIES   \n",
       "\n",
       "      Incident Type Employment Status    Year  County  \\\n",
       "0  Non-fatal injury            Employee  2017  Carlow   \n",
       "1  Non-fatal injury            Employee  2017  Dublin   \n",
       "2  Non-fatal injury            Employee  2017  Dublin   \n",
       "3  Non-fatal injury            Employee  2017  Offaly   \n",
       "4  Non-fatal injury            Employee  2017  Dublin   \n",
       "\n",
       "                                  Trigger  \n",
       "0                       Lifting, carrying  \n",
       "1               Other triggers not listed  \n",
       "2  Fall on same level (slip, stumble etc)  \n",
       "3                        Pushing, pulling  \n",
       "4              Loss of control of machine  "
      ]
     },
     "execution_count": 43,
     "metadata": {},
     "output_type": "execute_result"
    }
   ],
   "source": [
    "\n",
    "\n",
    "df=pd.read_csv(\"hsa-incidents-2017-2021 extract.csv\")\n",
    "df.head()\n",
    "#info for histograms"
   ]
  },
  {
   "cell_type": "code",
   "execution_count": 44,
   "metadata": {},
   "outputs": [
    {
     "data": {
      "text/plain": [
       "<seaborn.axisgrid.PairGrid at 0x1a29ccabf70>"
      ]
     },
     "execution_count": 44,
     "metadata": {},
     "output_type": "execute_result"
    }
   ],
   "source": [
    "sns.pairplot(df, hue= \"Trigger\")"
   ]
  },
  {
   "attachments": {},
   "cell_type": "markdown",
   "metadata": {},
   "source": [
    "year column is int 64 bit"
   ]
  },
  {
   "cell_type": "code",
   "execution_count": 45,
   "metadata": {},
   "outputs": [
    {
     "data": {
      "text/plain": [
       "0        2017\n",
       "1        2017\n",
       "2        2017\n",
       "3        2017\n",
       "4        2017\n",
       "         ... \n",
       "45892    2021\n",
       "45893    2021\n",
       "45894    2021\n",
       "45895    2021\n",
       "45896    2021\n",
       "Name: Year, Length: 45897, dtype: int64"
      ]
     },
     "execution_count": 45,
     "metadata": {},
     "output_type": "execute_result"
    }
   ],
   "source": [
    "df['Year']\n"
   ]
  },
  {
   "attachments": {},
   "cell_type": "markdown",
   "metadata": {},
   "source": []
  },
  {
   "attachments": {},
   "cell_type": "markdown",
   "metadata": {},
   "source": [
    "adding a new varaible "
   ]
  },
  {
   "cell_type": "code",
   "execution_count": 46,
   "metadata": {},
   "outputs": [
    {
     "data": {
      "text/plain": [
       "0       1970-01-01 00:00:00.000002017\n",
       "1       1970-01-01 00:00:00.000002017\n",
       "2       1970-01-01 00:00:00.000002017\n",
       "3       1970-01-01 00:00:00.000002017\n",
       "4       1970-01-01 00:00:00.000002017\n",
       "                     ...             \n",
       "45892   1970-01-01 00:00:00.000002021\n",
       "45893   1970-01-01 00:00:00.000002021\n",
       "45894   1970-01-01 00:00:00.000002021\n",
       "45895   1970-01-01 00:00:00.000002021\n",
       "45896   1970-01-01 00:00:00.000002021\n",
       "Name: Year, Length: 45897, dtype: datetime64[ns]"
      ]
     },
     "execution_count": 46,
     "metadata": {},
     "output_type": "execute_result"
    }
   ],
   "source": [
    "pd.to_datetime(df['Year'])"
   ]
  },
  {
   "attachments": {},
   "cell_type": "markdown",
   "metadata": {},
   "source": [
    "new variable datetime added"
   ]
  },
  {
   "cell_type": "code",
   "execution_count": 53,
   "metadata": {},
   "outputs": [
    {
     "data": {
      "text/html": [
       "<div>\n",
       "<style scoped>\n",
       "    .dataframe tbody tr th:only-of-type {\n",
       "        vertical-align: middle;\n",
       "    }\n",
       "\n",
       "    .dataframe tbody tr th {\n",
       "        vertical-align: top;\n",
       "    }\n",
       "\n",
       "    .dataframe thead th {\n",
       "        text-align: right;\n",
       "    }\n",
       "</style>\n",
       "<table border=\"1\" class=\"dataframe\">\n",
       "  <thead>\n",
       "    <tr style=\"text-align: right;\">\n",
       "      <th></th>\n",
       "      <th>Age</th>\n",
       "      <th>Gender</th>\n",
       "      <th>NACE Sector</th>\n",
       "      <th>Incident Type</th>\n",
       "      <th>Employment Status</th>\n",
       "      <th>Year</th>\n",
       "      <th>County</th>\n",
       "      <th>Trigger</th>\n",
       "      <th>datetime</th>\n",
       "    </tr>\n",
       "  </thead>\n",
       "  <tbody>\n",
       "    <tr>\n",
       "      <th>0</th>\n",
       "      <td>0-17 Years</td>\n",
       "      <td>Male</td>\n",
       "      <td>F - CONSTRUCTION</td>\n",
       "      <td>Non-fatal injury</td>\n",
       "      <td>Employee</td>\n",
       "      <td>2017</td>\n",
       "      <td>Carlow</td>\n",
       "      <td>Lifting, carrying</td>\n",
       "      <td>2017-01-01</td>\n",
       "    </tr>\n",
       "    <tr>\n",
       "      <th>1</th>\n",
       "      <td>0-17 Years</td>\n",
       "      <td>Female</td>\n",
       "      <td>C - MANUFACTURING</td>\n",
       "      <td>Non-fatal injury</td>\n",
       "      <td>Employee</td>\n",
       "      <td>2017</td>\n",
       "      <td>Dublin</td>\n",
       "      <td>Other triggers not listed</td>\n",
       "      <td>2017-01-01</td>\n",
       "    </tr>\n",
       "    <tr>\n",
       "      <th>2</th>\n",
       "      <td>0-17 Years</td>\n",
       "      <td>Female</td>\n",
       "      <td>Q - HUMAN HEALTH AND SOCIAL WORK ACTIVITIES</td>\n",
       "      <td>Non-fatal injury</td>\n",
       "      <td>Employee</td>\n",
       "      <td>2017</td>\n",
       "      <td>Dublin</td>\n",
       "      <td>Fall on same level (slip, stumble etc)</td>\n",
       "      <td>2017-01-01</td>\n",
       "    </tr>\n",
       "    <tr>\n",
       "      <th>3</th>\n",
       "      <td>0-17 Years</td>\n",
       "      <td>Male</td>\n",
       "      <td>C - MANUFACTURING</td>\n",
       "      <td>Non-fatal injury</td>\n",
       "      <td>Employee</td>\n",
       "      <td>2017</td>\n",
       "      <td>Offaly</td>\n",
       "      <td>Pushing, pulling</td>\n",
       "      <td>2017-01-01</td>\n",
       "    </tr>\n",
       "    <tr>\n",
       "      <th>4</th>\n",
       "      <td>0-17 Years</td>\n",
       "      <td>Male</td>\n",
       "      <td>I - ACCOMMODATION AND FOOD SERVICE ACTIVITIES</td>\n",
       "      <td>Non-fatal injury</td>\n",
       "      <td>Employee</td>\n",
       "      <td>2017</td>\n",
       "      <td>Dublin</td>\n",
       "      <td>Loss of control of machine</td>\n",
       "      <td>2017-01-01</td>\n",
       "    </tr>\n",
       "    <tr>\n",
       "      <th>...</th>\n",
       "      <td>...</td>\n",
       "      <td>...</td>\n",
       "      <td>...</td>\n",
       "      <td>...</td>\n",
       "      <td>...</td>\n",
       "      <td>...</td>\n",
       "      <td>...</td>\n",
       "      <td>...</td>\n",
       "      <td>...</td>\n",
       "    </tr>\n",
       "    <tr>\n",
       "      <th>45892</th>\n",
       "      <td>NaN</td>\n",
       "      <td>NaN</td>\n",
       "      <td>C - MANUFACTURING</td>\n",
       "      <td>Dangerous Occurrence</td>\n",
       "      <td>NaN</td>\n",
       "      <td>2021</td>\n",
       "      <td>Mayo</td>\n",
       "      <td>NaN</td>\n",
       "      <td>2021-01-01</td>\n",
       "    </tr>\n",
       "    <tr>\n",
       "      <th>45893</th>\n",
       "      <td>NaN</td>\n",
       "      <td>NaN</td>\n",
       "      <td>Q - HUMAN HEALTH AND SOCIAL WORK ACTIVITIES</td>\n",
       "      <td>Dangerous Occurrence</td>\n",
       "      <td>NaN</td>\n",
       "      <td>2021</td>\n",
       "      <td>Dublin</td>\n",
       "      <td>NaN</td>\n",
       "      <td>2021-01-01</td>\n",
       "    </tr>\n",
       "    <tr>\n",
       "      <th>45894</th>\n",
       "      <td>NaN</td>\n",
       "      <td>NaN</td>\n",
       "      <td>F - CONSTRUCTION</td>\n",
       "      <td>Dangerous Occurrence</td>\n",
       "      <td>NaN</td>\n",
       "      <td>2021</td>\n",
       "      <td>Dublin</td>\n",
       "      <td>NaN</td>\n",
       "      <td>2021-01-01</td>\n",
       "    </tr>\n",
       "    <tr>\n",
       "      <th>45895</th>\n",
       "      <td>NaN</td>\n",
       "      <td>NaN</td>\n",
       "      <td>Q - HUMAN HEALTH AND SOCIAL WORK ACTIVITIES</td>\n",
       "      <td>Dangerous Occurrence</td>\n",
       "      <td>NaN</td>\n",
       "      <td>2021</td>\n",
       "      <td>Dublin</td>\n",
       "      <td>NaN</td>\n",
       "      <td>2021-01-01</td>\n",
       "    </tr>\n",
       "    <tr>\n",
       "      <th>45896</th>\n",
       "      <td>NaN</td>\n",
       "      <td>NaN</td>\n",
       "      <td>F - CONSTRUCTION</td>\n",
       "      <td>Dangerous Occurrence</td>\n",
       "      <td>NaN</td>\n",
       "      <td>2021</td>\n",
       "      <td>Dublin</td>\n",
       "      <td>NaN</td>\n",
       "      <td>2021-01-01</td>\n",
       "    </tr>\n",
       "  </tbody>\n",
       "</table>\n",
       "<p>45897 rows × 9 columns</p>\n",
       "</div>"
      ],
      "text/plain": [
       "              Age Gender                                      NACE Sector  \\\n",
       "0      0-17 Years     Male                               F - CONSTRUCTION   \n",
       "1      0-17 Years   Female                              C - MANUFACTURING   \n",
       "2      0-17 Years   Female    Q - HUMAN HEALTH AND SOCIAL WORK ACTIVITIES   \n",
       "3      0-17 Years     Male                              C - MANUFACTURING   \n",
       "4      0-17 Years     Male  I - ACCOMMODATION AND FOOD SERVICE ACTIVITIES   \n",
       "...           ...      ...                                            ...   \n",
       "45892         NaN      NaN                              C - MANUFACTURING   \n",
       "45893         NaN      NaN    Q - HUMAN HEALTH AND SOCIAL WORK ACTIVITIES   \n",
       "45894         NaN      NaN                               F - CONSTRUCTION   \n",
       "45895         NaN      NaN    Q - HUMAN HEALTH AND SOCIAL WORK ACTIVITIES   \n",
       "45896         NaN      NaN                               F - CONSTRUCTION   \n",
       "\n",
       "              Incident Type Employment Status    Year  County  \\\n",
       "0          Non-fatal injury            Employee  2017  Carlow   \n",
       "1          Non-fatal injury            Employee  2017  Dublin   \n",
       "2          Non-fatal injury            Employee  2017  Dublin   \n",
       "3          Non-fatal injury            Employee  2017  Offaly   \n",
       "4          Non-fatal injury            Employee  2017  Dublin   \n",
       "...                     ...                 ...   ...     ...   \n",
       "45892  Dangerous Occurrence                 NaN  2021    Mayo   \n",
       "45893  Dangerous Occurrence                 NaN  2021  Dublin   \n",
       "45894  Dangerous Occurrence                 NaN  2021  Dublin   \n",
       "45895  Dangerous Occurrence                 NaN  2021  Dublin   \n",
       "45896  Dangerous Occurrence                 NaN  2021  Dublin   \n",
       "\n",
       "                                      Trigger   datetime  \n",
       "0                           Lifting, carrying 2017-01-01  \n",
       "1                   Other triggers not listed 2017-01-01  \n",
       "2      Fall on same level (slip, stumble etc) 2017-01-01  \n",
       "3                            Pushing, pulling 2017-01-01  \n",
       "4                  Loss of control of machine 2017-01-01  \n",
       "...                                       ...        ...  \n",
       "45892                                     NaN 2021-01-01  \n",
       "45893                                     NaN 2021-01-01  \n",
       "45894                                     NaN 2021-01-01  \n",
       "45895                                     NaN 2021-01-01  \n",
       "45896                                     NaN 2021-01-01  \n",
       "\n",
       "[45897 rows x 9 columns]"
      ]
     },
     "execution_count": 53,
     "metadata": {},
     "output_type": "execute_result"
    }
   ],
   "source": [
    "df['datetime'] = pd.to_datetime(df['Year'], format = '%Y')\n",
    "df"
   ]
  },
  {
   "cell_type": "code",
   "execution_count": null,
   "metadata": {},
   "outputs": [],
   "source": []
  },
  {
   "cell_type": "code",
   "execution_count": null,
   "metadata": {},
   "outputs": [],
   "source": []
  },
  {
   "cell_type": "code",
   "execution_count": null,
   "metadata": {},
   "outputs": [],
   "source": []
  },
  {
   "cell_type": "code",
   "execution_count": null,
   "metadata": {},
   "outputs": [],
   "source": []
  }
 ],
 "metadata": {
  "kernelspec": {
   "display_name": "base",
   "language": "python",
   "name": "python3"
  },
  "language_info": {
   "codemirror_mode": {
    "name": "ipython",
    "version": 3
   },
   "file_extension": ".py",
   "mimetype": "text/x-python",
   "name": "python",
   "nbconvert_exporter": "python",
   "pygments_lexer": "ipython3",
   "version": "3.9.13"
  },
  "orig_nbformat": 4,
  "vscode": {
   "interpreter": {
    "hash": "11897fb7f3d1744cadb77307357ca126ab04af391fb94973001a3c10680415c6"
   }
  }
 },
 "nbformat": 4,
 "nbformat_minor": 2
}
